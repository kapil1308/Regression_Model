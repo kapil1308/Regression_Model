{
  "nbformat": 4,
  "nbformat_minor": 0,
  "metadata": {
    "colab": {
      "name": "Regression.ipynb",
      "provenance": [],
      "authorship_tag": "ABX9TyMgAc4CTeQggGfUBElEfQGi"
    },
    "kernelspec": {
      "name": "python3",
      "display_name": "Python 3"
    }
  },
  "cells": [
    {
      "cell_type": "code",
      "metadata": {
        "id": "dHiSf8jtjmUv"
      },
      "source": [
        "from __future__ import print_function, division"
      ],
      "execution_count": null,
      "outputs": []
    },
    {
      "cell_type": "code",
      "metadata": {
        "id": "CMW8PvMOwPmz"
      },
      "source": [
        "from future.utils import iteritems"
      ],
      "execution_count": null,
      "outputs": []
    },
    {
      "cell_type": "code",
      "metadata": {
        "id": "9vmw7IK6wU8o"
      },
      "source": [
        "from builtins import range, input"
      ],
      "execution_count": null,
      "outputs": []
    },
    {
      "cell_type": "code",
      "metadata": {
        "id": "liKk9o5vwbAq"
      },
      "source": [
        "import numpy as np"
      ],
      "execution_count": null,
      "outputs": []
    },
    {
      "cell_type": "code",
      "metadata": {
        "id": "IGq6tRK9we8j"
      },
      "source": [
        "import pandas as pd"
      ],
      "execution_count": null,
      "outputs": []
    },
    {
      "cell_type": "markdown",
      "metadata": {
        "id": "-rGHEp7H4hJD"
      },
      "source": [
        "**Downloading the data file using wget**"
      ]
    },
    {
      "cell_type": "code",
      "metadata": {
        "colab": {
          "base_uri": "https://localhost:8080/"
        },
        "id": "8apcfaZEwiFd",
        "outputId": "43f6391b-2fc6-494e-9a27-0fc8e5ff4397"
      },
      "source": [
        "!wget https://archive.ics.uci.edu/ml/machine-learning-databases/00291/airfoil_self_noise.dat"
      ],
      "execution_count": null,
      "outputs": [
        {
          "output_type": "stream",
          "text": [
            "--2020-11-18 21:30:00--  https://archive.ics.uci.edu/ml/machine-learning-databases/00291/airfoil_self_noise.dat\n",
            "Resolving archive.ics.uci.edu (archive.ics.uci.edu)... 128.195.10.252\n",
            "Connecting to archive.ics.uci.edu (archive.ics.uci.edu)|128.195.10.252|:443... connected.\n",
            "HTTP request sent, awaiting response... 200 OK\n",
            "Length: 59984 (59K) [application/x-httpd-php]\n",
            "Saving to: ‘airfoil_self_noise.dat’\n",
            "\n",
            "airfoil_self_noise. 100%[===================>]  58.58K  --.-KB/s    in 0.06s   \n",
            "\n",
            "2020-11-18 21:30:00 (985 KB/s) - ‘airfoil_self_noise.dat’ saved [59984/59984]\n",
            "\n"
          ],
          "name": "stdout"
        }
      ]
    },
    {
      "cell_type": "code",
      "metadata": {
        "id": "PUHoxC4UQ7h3"
      },
      "source": [
        "df = pd.read_csv('airfoil_self_noise.dat', sep='\\t', header=None)"
      ],
      "execution_count": null,
      "outputs": []
    },
    {
      "cell_type": "code",
      "metadata": {
        "colab": {
          "base_uri": "https://localhost:8080/",
          "height": 204
        },
        "id": "ozleKDoRRNNo",
        "outputId": "3ea4b59b-8b35-4074-b01f-6a73e0b51c47"
      },
      "source": [
        "df.head()\n"
      ],
      "execution_count": null,
      "outputs": [
        {
          "output_type": "execute_result",
          "data": {
            "text/html": [
              "<div>\n",
              "<style scoped>\n",
              "    .dataframe tbody tr th:only-of-type {\n",
              "        vertical-align: middle;\n",
              "    }\n",
              "\n",
              "    .dataframe tbody tr th {\n",
              "        vertical-align: top;\n",
              "    }\n",
              "\n",
              "    .dataframe thead th {\n",
              "        text-align: right;\n",
              "    }\n",
              "</style>\n",
              "<table border=\"1\" class=\"dataframe\">\n",
              "  <thead>\n",
              "    <tr style=\"text-align: right;\">\n",
              "      <th></th>\n",
              "      <th>0</th>\n",
              "      <th>1</th>\n",
              "      <th>2</th>\n",
              "      <th>3</th>\n",
              "      <th>4</th>\n",
              "      <th>5</th>\n",
              "    </tr>\n",
              "  </thead>\n",
              "  <tbody>\n",
              "    <tr>\n",
              "      <th>0</th>\n",
              "      <td>800</td>\n",
              "      <td>0.0</td>\n",
              "      <td>0.3048</td>\n",
              "      <td>71.3</td>\n",
              "      <td>0.002663</td>\n",
              "      <td>126.201</td>\n",
              "    </tr>\n",
              "    <tr>\n",
              "      <th>1</th>\n",
              "      <td>1000</td>\n",
              "      <td>0.0</td>\n",
              "      <td>0.3048</td>\n",
              "      <td>71.3</td>\n",
              "      <td>0.002663</td>\n",
              "      <td>125.201</td>\n",
              "    </tr>\n",
              "    <tr>\n",
              "      <th>2</th>\n",
              "      <td>1250</td>\n",
              "      <td>0.0</td>\n",
              "      <td>0.3048</td>\n",
              "      <td>71.3</td>\n",
              "      <td>0.002663</td>\n",
              "      <td>125.951</td>\n",
              "    </tr>\n",
              "    <tr>\n",
              "      <th>3</th>\n",
              "      <td>1600</td>\n",
              "      <td>0.0</td>\n",
              "      <td>0.3048</td>\n",
              "      <td>71.3</td>\n",
              "      <td>0.002663</td>\n",
              "      <td>127.591</td>\n",
              "    </tr>\n",
              "    <tr>\n",
              "      <th>4</th>\n",
              "      <td>2000</td>\n",
              "      <td>0.0</td>\n",
              "      <td>0.3048</td>\n",
              "      <td>71.3</td>\n",
              "      <td>0.002663</td>\n",
              "      <td>127.461</td>\n",
              "    </tr>\n",
              "  </tbody>\n",
              "</table>\n",
              "</div>"
            ],
            "text/plain": [
              "      0    1       2     3         4        5\n",
              "0   800  0.0  0.3048  71.3  0.002663  126.201\n",
              "1  1000  0.0  0.3048  71.3  0.002663  125.201\n",
              "2  1250  0.0  0.3048  71.3  0.002663  125.951\n",
              "3  1600  0.0  0.3048  71.3  0.002663  127.591\n",
              "4  2000  0.0  0.3048  71.3  0.002663  127.461"
            ]
          },
          "metadata": {
            "tags": []
          },
          "execution_count": 10
        }
      ]
    },
    {
      "cell_type": "code",
      "metadata": {
        "colab": {
          "base_uri": "https://localhost:8080/"
        },
        "id": "RbZ_K60-RT3y",
        "outputId": "626e8bc1-7cee-41af-91a7-81da51c94fbc"
      },
      "source": [
        "df.info()"
      ],
      "execution_count": null,
      "outputs": [
        {
          "output_type": "stream",
          "text": [
            "<class 'pandas.core.frame.DataFrame'>\n",
            "RangeIndex: 1503 entries, 0 to 1502\n",
            "Data columns (total 6 columns):\n",
            " #   Column  Non-Null Count  Dtype  \n",
            "---  ------  --------------  -----  \n",
            " 0   0       1503 non-null   int64  \n",
            " 1   1       1503 non-null   float64\n",
            " 2   2       1503 non-null   float64\n",
            " 3   3       1503 non-null   float64\n",
            " 4   4       1503 non-null   float64\n",
            " 5   5       1503 non-null   float64\n",
            "dtypes: float64(5), int64(1)\n",
            "memory usage: 70.6 KB\n"
          ],
          "name": "stdout"
        }
      ]
    },
    {
      "cell_type": "code",
      "metadata": {
        "colab": {
          "base_uri": "https://localhost:8080/"
        },
        "id": "8UYhQRIORWle",
        "outputId": "7c22f3ee-6ada-440a-efef-510cd429d8af"
      },
      "source": [
        "data = df[[0,1,2,3,4]].values\n",
        "data"
      ],
      "execution_count": null,
      "outputs": [
        {
          "output_type": "execute_result",
          "data": {
            "text/plain": [
              "array([[8.00000e+02, 0.00000e+00, 3.04800e-01, 7.13000e+01, 2.66337e-03],\n",
              "       [1.00000e+03, 0.00000e+00, 3.04800e-01, 7.13000e+01, 2.66337e-03],\n",
              "       [1.25000e+03, 0.00000e+00, 3.04800e-01, 7.13000e+01, 2.66337e-03],\n",
              "       ...,\n",
              "       [4.00000e+03, 1.56000e+01, 1.01600e-01, 3.96000e+01, 5.28487e-02],\n",
              "       [5.00000e+03, 1.56000e+01, 1.01600e-01, 3.96000e+01, 5.28487e-02],\n",
              "       [6.30000e+03, 1.56000e+01, 1.01600e-01, 3.96000e+01, 5.28487e-02]])"
            ]
          },
          "metadata": {
            "tags": []
          },
          "execution_count": 13
        }
      ]
    },
    {
      "cell_type": "code",
      "metadata": {
        "id": "SfVdGhJhRo1G"
      },
      "source": [
        "target = df[5].values"
      ],
      "execution_count": null,
      "outputs": []
    },
    {
      "cell_type": "markdown",
      "metadata": {
        "id": "R0WSoNhW5H9R"
      },
      "source": [
        "**Splitting the dataset into test and training data**"
      ]
    },
    {
      "cell_type": "code",
      "metadata": {
        "id": "79SzMdjNSJbK"
      },
      "source": [
        "from sklearn.model_selection import train_test_split"
      ],
      "execution_count": null,
      "outputs": []
    },
    {
      "cell_type": "code",
      "metadata": {
        "id": "ep7xaVQtSPmc"
      },
      "source": [
        "X_train, X_test, y_train, y_test = train_test_split(data, target, test_size=0.33)"
      ],
      "execution_count": null,
      "outputs": []
    },
    {
      "cell_type": "markdown",
      "metadata": {
        "id": "f09eOYC05OCs"
      },
      "source": [
        "**Importing the Linear Regression model from scikit**"
      ]
    },
    {
      "cell_type": "code",
      "metadata": {
        "id": "itiQWSk6SbVM"
      },
      "source": [
        "from sklearn.linear_model import LinearRegression"
      ],
      "execution_count": null,
      "outputs": []
    },
    {
      "cell_type": "markdown",
      "metadata": {
        "id": "6R99Xh6I5TUu"
      },
      "source": [
        "**Putting the model to use with the training data**"
      ]
    },
    {
      "cell_type": "code",
      "metadata": {
        "colab": {
          "base_uri": "https://localhost:8080/"
        },
        "id": "79f4lk6gSgT2",
        "outputId": "c7f3172a-ba04-4951-d0f0-dc1a5f77d5b3"
      },
      "source": [
        "model = LinearRegression()\n",
        "model.fit(X_train, y_train)"
      ],
      "execution_count": null,
      "outputs": [
        {
          "output_type": "execute_result",
          "data": {
            "text/plain": [
              "LinearRegression(copy_X=True, fit_intercept=True, n_jobs=None, normalize=False)"
            ]
          },
          "metadata": {
            "tags": []
          },
          "execution_count": 18
        }
      ]
    },
    {
      "cell_type": "markdown",
      "metadata": {
        "id": "Sd2-IQW05Z6X"
      },
      "source": [
        "**Checking the accuracy of the model**"
      ]
    },
    {
      "cell_type": "code",
      "metadata": {
        "colab": {
          "base_uri": "https://localhost:8080/"
        },
        "id": "JVbI64mpSolV",
        "outputId": "c6fb3c7b-a3d6-4c66-ab60-f4862a0b6898"
      },
      "source": [
        "model.score(X_train, y_train)"
      ],
      "execution_count": null,
      "outputs": [
        {
          "output_type": "execute_result",
          "data": {
            "text/plain": [
              "0.5050634590347909"
            ]
          },
          "metadata": {
            "tags": []
          },
          "execution_count": 19
        }
      ]
    },
    {
      "cell_type": "code",
      "metadata": {
        "colab": {
          "base_uri": "https://localhost:8080/"
        },
        "id": "Ya3yW-bHSyCU",
        "outputId": "2ce0a969-1d55-430f-abf1-ff6c79946875"
      },
      "source": [
        "model.score(X_test, y_test)"
      ],
      "execution_count": null,
      "outputs": [
        {
          "output_type": "execute_result",
          "data": {
            "text/plain": [
              "0.5331116542913088"
            ]
          },
          "metadata": {
            "tags": []
          },
          "execution_count": 20
        }
      ]
    },
    {
      "cell_type": "markdown",
      "metadata": {
        "id": "uf0BiP3x5dz3"
      },
      "source": [
        "**Predicting for the test data**"
      ]
    },
    {
      "cell_type": "code",
      "metadata": {
        "id": "75sD3pAOS1T4"
      },
      "source": [
        "predictions = model.predict(X_test)"
      ],
      "execution_count": null,
      "outputs": []
    },
    {
      "cell_type": "markdown",
      "metadata": {
        "id": "IXGKIPdu5iHg"
      },
      "source": [
        "**The predicted values **"
      ]
    },
    {
      "cell_type": "code",
      "metadata": {
        "colab": {
          "base_uri": "https://localhost:8080/"
        },
        "id": "bRBXH3e6S7-I",
        "outputId": "26a62234-3278-47d5-987b-858b0093f7f9"
      },
      "source": [
        "predictions"
      ],
      "execution_count": null,
      "outputs": [
        {
          "output_type": "execute_result",
          "data": {
            "text/plain": [
              "array([125.83741141, 121.3758024 , 129.17552931, 124.31698688,\n",
              "       124.20551592, 124.70021849, 122.6829646 , 128.11825292,\n",
              "       126.25862056, 125.97481232, 128.06196561, 124.30093438,\n",
              "       116.65354702, 118.33911989, 119.07118488, 124.18319964,\n",
              "       124.43091316, 129.63670532, 121.96330494, 131.27772571,\n",
              "       131.80578879, 121.48008536, 120.31738976, 123.51846468,\n",
              "       129.68694172, 133.84135322, 129.43249703, 123.87273928,\n",
              "       131.93664072, 129.6651637 , 121.38818097, 130.17784724,\n",
              "       121.84744688, 121.56378479, 120.41640461, 126.77663576,\n",
              "       132.25602436, 130.80032857, 134.56313226, 122.55901584,\n",
              "       119.28861951, 131.62605943, 115.87625708, 129.97965868,\n",
              "       125.26358382, 120.82914939, 123.91507026, 130.41601697,\n",
              "       122.81447389, 129.81551187, 124.11694872, 127.08121157,\n",
              "       118.62985645, 124.5198108 , 122.61192229, 122.10192136,\n",
              "       126.76975449, 125.47766252, 129.01533584, 126.0054026 ,\n",
              "       126.86678001, 121.41524131, 117.60222498, 128.83784363,\n",
              "       132.176516  , 125.85651958, 123.69643194, 131.39372319,\n",
              "       126.90289266, 126.58258745, 125.81601724, 128.9009341 ,\n",
              "       124.51710182, 130.26798985, 128.05859745, 124.65123783,\n",
              "       127.29333583, 127.65754996, 113.68696884, 131.7964934 ,\n",
              "       128.35175432, 127.77980973, 130.77856142, 115.0478339 ,\n",
              "       129.61977691, 123.71923947, 126.31270552, 131.91775031,\n",
              "       118.17978586, 120.32787938, 128.66739659, 129.89633982,\n",
              "       121.80441864, 124.23306794, 126.52034231, 130.89937782,\n",
              "       125.92665789, 129.28065068, 111.84002558, 125.04931171,\n",
              "       125.68976034, 133.71488441, 127.89280409, 130.16350316,\n",
              "       122.79028297, 129.88745636, 127.91006377, 129.32453467,\n",
              "       118.85066429, 130.73165109, 131.17388268, 130.80651981,\n",
              "       122.81284527, 114.05290188, 112.05991726, 124.64194081,\n",
              "       120.44046808, 123.53422884, 132.69305767, 124.45802973,\n",
              "       118.137716  , 119.21702076, 126.09079186, 128.76373083,\n",
              "       122.16731577, 118.4921835 , 128.9973061 , 120.91899169,\n",
              "       110.67618321, 125.59018399, 124.88008509, 129.78477042,\n",
              "       121.23011765, 115.83638315, 135.57436796, 130.11018413,\n",
              "       125.35660872, 123.1991576 , 118.63737894, 128.66015241,\n",
              "       127.63334642, 130.10041269, 125.01774946, 127.0714929 ,\n",
              "       116.73142276, 117.10632733, 127.1283188 , 127.91700073,\n",
              "       129.10331056, 127.66683123, 126.27801798, 123.86239   ,\n",
              "       116.81112595, 128.93659939, 130.68471868, 127.40482753,\n",
              "       124.68174167, 127.34655625, 123.17510505, 124.40968192,\n",
              "       119.2108997 , 115.39448398, 131.26843888, 123.8453481 ,\n",
              "       124.96305735, 124.48558175, 117.87983751, 122.87234996,\n",
              "       123.89018931, 127.95411895, 127.8056608 , 123.0482774 ,\n",
              "       127.90727866, 126.09448659, 127.15023692, 130.23836373,\n",
              "       125.21727088, 131.59336797, 127.90985515, 118.03370819,\n",
              "       119.45373523, 127.66044645, 123.88337345, 122.82635385,\n",
              "       126.84509531, 121.48551817, 129.92369498, 126.94665514,\n",
              "       125.07669157, 121.97509371, 128.87418524, 119.15383555,\n",
              "       115.73685896, 121.57724681, 127.15717089, 123.82127092,\n",
              "       128.92705598, 128.84761507, 129.1819141 , 129.72192826,\n",
              "       129.34287125, 123.03217557, 130.81118749, 130.5328757 ,\n",
              "       123.05829668, 122.97754828, 130.69305833, 122.11136989,\n",
              "       130.63065371, 119.02513811, 118.10596053, 126.16063277,\n",
              "       123.81412251, 126.61406102, 127.95788211, 124.50577587,\n",
              "       123.78752128, 104.03686291, 122.27373049, 120.07935051,\n",
              "       127.99694388, 124.90162862, 121.2624293 , 123.42303876,\n",
              "       119.8533496 , 117.61335591, 127.96328957, 123.27999582,\n",
              "       120.66285411, 135.1341    , 125.6628779 , 122.93547841,\n",
              "       118.3796086 , 127.56098781, 109.90907923, 130.96250628,\n",
              "       122.61639751, 118.17463801, 127.88962551, 127.38243032,\n",
              "       128.60737324, 125.19572735, 124.87968942, 132.37853989,\n",
              "       127.47892082, 128.9230155 , 122.17223007, 118.82642207,\n",
              "       128.3705378 , 127.20599669, 136.58442321, 124.72532419,\n",
              "       111.10779189, 125.00525944, 126.39786504, 136.01626713,\n",
              "       126.49703427, 128.46856574, 132.37968717, 133.61738592,\n",
              "       129.63680877, 128.91363973, 128.66276437, 132.2273795 ,\n",
              "       119.64709196, 129.1949096 , 127.96699841, 117.88430965,\n",
              "       132.57857226, 127.13208408, 126.48028269, 117.697811  ,\n",
              "       130.54259815, 121.42956372, 125.77825296, 124.34473913,\n",
              "       122.97539875, 131.28163317, 119.15523969, 130.0820761 ,\n",
              "       128.90647499, 131.88437118, 132.87801849, 130.1880307 ,\n",
              "       112.22037304, 119.10309578, 124.67266647, 119.19088449,\n",
              "       123.10930434, 117.60015428, 122.05530384, 131.1349575 ,\n",
              "       122.88471417, 126.29841875, 122.9248572 , 115.36753253,\n",
              "       121.29644678, 134.9395764 , 125.17999473, 120.11315103,\n",
              "       121.49099245, 122.75811158, 125.82970897, 132.69792353,\n",
              "       133.26121375, 127.26813354, 121.81033164, 128.80315609,\n",
              "       122.65075003, 125.8440195 , 127.20687978, 119.54499495,\n",
              "       127.77415276, 126.70972766, 126.39962946, 127.19304496,\n",
              "       121.29939102, 130.28532138, 133.42081402, 130.33458992,\n",
              "       127.37160245, 122.40580534, 108.90349462, 132.66327259,\n",
              "       124.5557596 , 121.52918518, 122.23139951, 123.46275513,\n",
              "       113.83961653, 132.30543187, 124.7610493 , 129.13722165,\n",
              "       122.17097379, 123.1932446 , 123.9331583 , 132.54420223,\n",
              "       123.59283429, 119.84129169, 116.40453923, 121.33405897,\n",
              "       126.6100112 , 120.23024647, 120.44125418, 126.62766068,\n",
              "       121.4408303 , 121.42061842, 119.63146544, 126.22439934,\n",
              "       119.70801346, 131.364869  , 125.31098962, 122.39791669,\n",
              "       128.27818878, 128.6569595 , 123.11665838, 123.42761886,\n",
              "       129.88424048, 125.05013646, 120.90474671, 118.37276254,\n",
              "       128.39215572, 119.8294132 , 116.85549882, 126.23859271,\n",
              "       124.8697946 , 132.47630934, 124.99060937, 128.15292348,\n",
              "       123.61712036, 130.2630112 , 122.87138206, 116.62152394,\n",
              "       123.37222334, 126.7883082 , 125.06897158, 129.67281962,\n",
              "       112.36431825, 128.52603818, 125.15626545, 117.11703955,\n",
              "       119.48194882, 133.64495821, 126.9566577 , 119.39017934,\n",
              "       123.06535908, 126.76629883, 116.41015769, 122.56787307,\n",
              "       130.0437469 , 132.16706272, 120.41780875, 129.64662037,\n",
              "       122.84252787, 120.94628181, 131.17450426, 125.0599079 ,\n",
              "       120.64545868, 121.50205931, 124.73444754, 129.14169272,\n",
              "       126.3219498 , 123.72098006, 123.27613615, 126.70578234,\n",
              "       124.11386043, 128.68988197, 124.83539631, 115.29178138,\n",
              "       121.38522731, 125.44824116, 127.16707892, 122.3734434 ,\n",
              "       127.52900764, 131.01265194, 131.75099674, 128.9048089 ,\n",
              "       119.82112564, 118.32366272, 124.12976478, 121.69898071,\n",
              "       126.40032354, 127.62411626, 131.86796324, 124.77244493,\n",
              "       129.72288792, 123.89204449, 124.18794175, 131.45059976,\n",
              "       127.02448662, 121.08369469, 127.32941095, 130.80128833,\n",
              "       124.05998484, 120.85134693, 121.40802018, 129.43548927,\n",
              "       114.25817183, 124.38545699, 124.41756061, 129.85725104,\n",
              "       125.62894329, 128.02567497, 119.3484478 , 114.91280023,\n",
              "       114.42277657, 121.79345935, 124.60288954, 129.42493802,\n",
              "       133.20985679, 117.43814878, 125.50372977, 129.78665768,\n",
              "       118.68365556, 129.83130996, 120.0983218 , 122.2959885 ,\n",
              "       122.61261637, 128.59198   , 128.83336697, 125.17763932,\n",
              "       127.53129306, 128.64340167, 120.74451787, 125.27322534,\n",
              "       122.28985266, 127.92254409, 120.0914169 , 122.53476979,\n",
              "       118.49773049, 127.35249427, 132.38238915, 127.15252234,\n",
              "       126.44738606, 126.06058716, 132.06404491, 122.1604697 ,\n",
              "       127.38617551, 130.64178192, 122.86719572, 128.92940029,\n",
              "       124.87140186, 126.9172032 , 123.26571204, 124.62560541,\n",
              "       117.57297201, 123.57038671, 133.47585049, 122.97049888,\n",
              "       131.54047395, 127.4869684 , 127.41197311, 132.75271558,\n",
              "       115.72594762, 129.65403686, 118.25860823, 123.34437691])"
            ]
          },
          "metadata": {
            "tags": []
          },
          "execution_count": 22
        }
      ]
    },
    {
      "cell_type": "markdown",
      "metadata": {
        "id": "Fvmi5Kmy5oBf"
      },
      "source": [
        "**Importing another model from scikit**"
      ]
    },
    {
      "cell_type": "code",
      "metadata": {
        "id": "9V7S3uWGTEWE"
      },
      "source": [
        "from sklearn.ensemble import RandomForestRegressor"
      ],
      "execution_count": null,
      "outputs": []
    },
    {
      "cell_type": "code",
      "metadata": {
        "colab": {
          "base_uri": "https://localhost:8080/"
        },
        "id": "92Bid4_sTOrq",
        "outputId": "2bec2aea-9925-4785-d520-1f1d49f67037"
      },
      "source": [
        "model2 = RandomForestRegressor()\n",
        "model2.fit(X_train,y_train)"
      ],
      "execution_count": null,
      "outputs": [
        {
          "output_type": "execute_result",
          "data": {
            "text/plain": [
              "RandomForestRegressor(bootstrap=True, ccp_alpha=0.0, criterion='mse',\n",
              "                      max_depth=None, max_features='auto', max_leaf_nodes=None,\n",
              "                      max_samples=None, min_impurity_decrease=0.0,\n",
              "                      min_impurity_split=None, min_samples_leaf=1,\n",
              "                      min_samples_split=2, min_weight_fraction_leaf=0.0,\n",
              "                      n_estimators=100, n_jobs=None, oob_score=False,\n",
              "                      random_state=None, verbose=0, warm_start=False)"
            ]
          },
          "metadata": {
            "tags": []
          },
          "execution_count": 24
        }
      ]
    },
    {
      "cell_type": "markdown",
      "metadata": {
        "id": "5q5YfbRN5tBi"
      },
      "source": [
        "**Checking the accuracy for the new model**"
      ]
    },
    {
      "cell_type": "code",
      "metadata": {
        "colab": {
          "base_uri": "https://localhost:8080/"
        },
        "id": "cegKpXKSTXkc",
        "outputId": "6222e3c6-b412-4ba6-d811-be4a6a918fea"
      },
      "source": [
        "model2.score(X_train, y_train)"
      ],
      "execution_count": null,
      "outputs": [
        {
          "output_type": "execute_result",
          "data": {
            "text/plain": [
              "0.9897588933138597"
            ]
          },
          "metadata": {
            "tags": []
          },
          "execution_count": 25
        }
      ]
    },
    {
      "cell_type": "code",
      "metadata": {
        "id": "-aErGVFYTdpw",
        "colab": {
          "base_uri": "https://localhost:8080/"
        },
        "outputId": "36b64145-c16c-49ca-e906-ff20dd8326ce"
      },
      "source": [
        "model2.score(X_test, y_test)"
      ],
      "execution_count": null,
      "outputs": [
        {
          "output_type": "execute_result",
          "data": {
            "text/plain": [
              "0.922865783773794"
            ]
          },
          "metadata": {
            "tags": []
          },
          "execution_count": 26
        }
      ]
    }
  ]
}